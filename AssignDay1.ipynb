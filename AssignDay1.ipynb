{
 "cells": [
  {
   "cell_type": "code",
   "execution_count": 1,
   "id": "225497a4",
   "metadata": {},
   "outputs": [
    {
     "name": "stdout",
     "output_type": "stream",
     "text": [
      "Numbers from 1 to 100:\n",
      "1 2 3 4 5 6 7 8 9 10 11 12 13 14 15 16 17 18 19 20 21 22 23 24 25 26 27 28 29 30 31 32 33 34 35 36 37 38 39 40 41 42 43 44 45 46 47 48 49 50 51 52 53 54 55 56 57 58 59 60 61 62 63 64 65 66 67 68 69 70 71 72 73 74 75 76 77 78 79 80 81 82 83 84 85 86 87 88 89 90 91 92 93 94 95 96 97 98 99 100 "
     ]
    }
   ],
   "source": [
    "#Display numbers from 1 to 100. \n",
    "\n",
    "print('Numbers from 1 to 100:')\n",
    "for n in range(1, 101):\n",
    "    print(n, end=' ')"
   ]
  },
  {
   "cell_type": "code",
   "execution_count": 3,
   "id": "2f8465af",
   "metadata": {
    "scrolled": true
   },
   "outputs": [
    {
     "name": "stdout",
     "output_type": "stream",
     "text": [
      "2 Even number\n",
      "4 Even number\n",
      "6 Even number\n",
      "8 Even number\n",
      "10 Even number\n",
      "12 Even number\n",
      "14 Even number\n",
      "16 Even number\n",
      "18 Even number\n",
      "20 Even number\n",
      "22 Even number\n",
      "24 Even number\n",
      "26 Even number\n",
      "28 Even number\n",
      "30 Even number\n",
      "32 Even number\n",
      "34 Even number\n",
      "36 Even number\n",
      "38 Even number\n",
      "40 Even number\n",
      "42 Even number\n",
      "44 Even number\n",
      "46 Even number\n",
      "48 Even number\n",
      "50 Even number\n",
      "52 Even number\n",
      "54 Even number\n",
      "56 Even number\n",
      "58 Even number\n",
      "60 Even number\n",
      "62 Even number\n",
      "64 Even number\n",
      "66 Even number\n",
      "68 Even number\n",
      "70 Even number\n",
      "72 Even number\n",
      "74 Even number\n",
      "76 Even number\n",
      "78 Even number\n",
      "80 Even number\n",
      "82 Even number\n",
      "84 Even number\n",
      "86 Even number\n",
      "88 Even number\n",
      "90 Even number\n",
      "92 Even number\n",
      "94 Even number\n",
      "96 Even number\n",
      "98 Even number\n",
      "100 Even number\n"
     ]
    }
   ],
   "source": [
    "# 2.\tDisplay all even numbers from 1 to 100. \n",
    "for num in range(1, 101):\n",
    "    if num % 2 == 0:\n",
    "        print(num, \"Even number\")"
   ]
  },
  {
   "cell_type": "code",
   "execution_count": 5,
   "id": "edae7e36",
   "metadata": {},
   "outputs": [
    {
     "name": "stdout",
     "output_type": "stream",
     "text": [
      "201 Odd number\n",
      "203 Odd number\n",
      "205 Odd number\n",
      "207 Odd number\n",
      "209 Odd number\n",
      "211 Odd number\n",
      "213 Odd number\n",
      "215 Odd number\n",
      "217 Odd number\n",
      "219 Odd number\n",
      "221 Odd number\n",
      "223 Odd number\n",
      "225 Odd number\n",
      "227 Odd number\n",
      "229 Odd number\n",
      "231 Odd number\n",
      "233 Odd number\n",
      "235 Odd number\n",
      "237 Odd number\n",
      "239 Odd number\n",
      "241 Odd number\n",
      "243 Odd number\n",
      "245 Odd number\n",
      "247 Odd number\n",
      "249 Odd number\n",
      "251 Odd number\n",
      "253 Odd number\n",
      "255 Odd number\n",
      "257 Odd number\n",
      "259 Odd number\n",
      "261 Odd number\n",
      "263 Odd number\n",
      "265 Odd number\n",
      "267 Odd number\n",
      "269 Odd number\n",
      "271 Odd number\n",
      "273 Odd number\n",
      "275 Odd number\n",
      "277 Odd number\n",
      "279 Odd number\n",
      "281 Odd number\n",
      "283 Odd number\n",
      "285 Odd number\n",
      "287 Odd number\n",
      "289 Odd number\n",
      "291 Odd number\n",
      "293 Odd number\n",
      "295 Odd number\n",
      "297 Odd number\n",
      "299 Odd number\n"
     ]
    }
   ],
   "source": [
    "#3.\tDisplay all odd numbers from 200 to 300. \n",
    "for num in range(200, 300):\n",
    "    if num % 2 != 0:\n",
    "        print(num, \"Odd number\")"
   ]
  },
  {
   "cell_type": "code",
   "execution_count": 8,
   "id": "2ea10802",
   "metadata": {},
   "outputs": [
    {
     "name": "stdout",
     "output_type": "stream",
     "text": [
      "400 407 414 421 428 435 442 449 456 463 470 477 484 491 498 "
     ]
    }
   ],
   "source": [
    "#4.\tDisplay the seventh element between 400 to 500 (both numbers excluded).\n",
    "i=400\n",
    "for i in range(400,500,7):\n",
    "    print(i,end=\" \")\n",
    "    \n",
    "\n",
    "\n"
   ]
  },
  {
   "cell_type": "code",
   "execution_count": 6,
   "id": "c887a60e",
   "metadata": {},
   "outputs": [
    {
     "name": "stdout",
     "output_type": "stream",
     "text": [
      "2 Even number\n",
      "4 Even number\n",
      "6 Even number\n",
      "8 Even number\n"
     ]
    }
   ],
   "source": [
    "#5.\tFind first 10 even numbers. \n",
    "for num in range(1, 10):\n",
    "    if num % 2 == 0:\n",
    "        print(num, \"Even number\")"
   ]
  },
  {
   "cell_type": "code",
   "execution_count": 10,
   "id": "2c8bda3f",
   "metadata": {},
   "outputs": [
    {
     "name": "stdout",
     "output_type": "stream",
     "text": [
      " 2   3   5   7   11   13   17   19   23   29   31   37   41   43   47   53   59   61   67   71   73   79   83   89   97  "
     ]
    }
   ],
   "source": [
    "#6.\tFind all prime numbers < 100. \n",
    "for Number in range (1,100):\n",
    "    count = 0\n",
    "    for i in range(2, (Number//2 + 1)):\n",
    "        if(Number % i == 0):\n",
    "            count = count + 1\n",
    "            break\n",
    "\n",
    "    if (count == 0 and Number != 1):\n",
    "        print(\" %d\" %Number, end = '  ')"
   ]
  },
  {
   "cell_type": "markdown",
   "id": "05597bb9",
   "metadata": {},
   "source": [
    "\n"
   ]
  },
  {
   "cell_type": "raw",
   "id": "c249b80b",
   "metadata": {},
   "source": []
  },
  {
   "cell_type": "code",
   "execution_count": 4,
   "id": "387872d4",
   "metadata": {},
   "outputs": [
    {
     "name": "stdout",
     "output_type": "stream",
     "text": [
      " 307   311   313   317   331   337   347   349   353   359   367   373   379   383   389   397  "
     ]
    }
   ],
   "source": [
    "#7.Find all prime numbers from 400 till 300. \n",
    "for Number in range (300,400):\n",
    "    count = 0\n",
    "    for i in range(2, (Number//2 + 1)):\n",
    "        if(Number % i == 0):\n",
    "            count = count + 1\n",
    "            break\n",
    "\n",
    "    if (count == 0 and Number != 1):\n",
    "        print(\" %d\" %Number, end = '  ')"
   ]
  },
  {
   "cell_type": "code",
   "execution_count": 6,
   "id": "b8a9c581",
   "metadata": {},
   "outputs": [
    {
     "name": "stdout",
     "output_type": "stream",
     "text": [
      "enter a number: 5\n",
      "factorial of  5  is  120\n"
     ]
    }
   ],
   "source": [
    "#8.\tCalculate factorial of a number. \n",
    "num = int(input(\"enter a number: \"))\n",
    " \n",
    "fac = 1\n",
    " \n",
    "for i in range(1, num + 1):\n",
    "    fac = fac * i\n",
    " \n",
    "print(\"factorial of \", num, \" is \", fac)"
   ]
  },
  {
   "cell_type": "code",
   "execution_count": 1,
   "id": "02bff241",
   "metadata": {},
   "outputs": [
    {
     "name": "stdout",
     "output_type": "stream",
     "text": [
      "Enter number:4568\n",
      "The number of digits in the number are: 4\n"
     ]
    }
   ],
   "source": [
    "#9.\tCount number of digits in any number. \n",
    "n=int(input(\"Enter number:\"))\n",
    "count=0\n",
    "while(n>0):\n",
    "    count=count+1\n",
    "    n=n//10\n",
    "print(\"The number of digits in the number are:\",count)\n",
    "\n"
   ]
  },
  {
   "cell_type": "code",
   "execution_count": 10,
   "id": "d6ce13c8",
   "metadata": {},
   "outputs": [
    {
     "name": "stdout",
     "output_type": "stream",
     "text": [
      "Enter the Number:5\n",
      "Fibonacci series:  0 1 1 2 3 "
     ]
    }
   ],
   "source": [
    "#10.Generate Fibonacci series. 0,1, 1, 2, 3, 5,8 ..... k. where k < n . n is entered by user \n",
    "n=int(input(\"Enter the Number:\"))\n",
    "a=0\n",
    "b=1\n",
    "sum=0\n",
    "count=1\n",
    "print(\"Fibonacci series: \",end=\" \")\n",
    "while(count<=n):\n",
    "    print(sum,end=\" \")\n",
    "    count+=1\n",
    "    a=b\n",
    "    b=sum\n",
    "    sum=a+b\n",
    "    "
   ]
  },
  {
   "cell_type": "code",
   "execution_count": 3,
   "id": "02f56756",
   "metadata": {},
   "outputs": [
    {
     "name": "stdout",
     "output_type": "stream",
     "text": [
      "Enter the Number:4\n",
      "Fibonacci Series: 0 1,1 2 \n"
     ]
    }
   ],
   "source": [
    "#11.\tGenerate Fibonacci series for first n terms. \n",
    "num = int(input(\"Enter the Number:\"))\n",
    "n1, n2 = 0, 1\n",
    "print(\"Fibonacci Series:\", n1, n2, end=\",\")\n",
    "for i in range(2, num):\n",
    "    n3 = n1 + n2\n",
    "    n1 = n2\n",
    "    n2 = n3\n",
    "    print(n3, end=\" \")\n",
    "\n",
    "print()"
   ]
  },
  {
   "cell_type": "code",
   "execution_count": 11,
   "id": "25ad3e6b",
   "metadata": {},
   "outputs": [
    {
     "name": "stdout",
     "output_type": "stream",
     "text": [
      "Enter number:44\n",
      "The total sum of digit=: 8\n"
     ]
    }
   ],
   "source": [
    "#12.\tFind sum of all digits of a number. \n",
    "n=int(input(\"Enter number:\"))\n",
    "sum=0\n",
    "while(n>0):\n",
    "    digit=n%10\n",
    "    sum=sum+digit\n",
    "    n=n//10\n",
    "print(\"The total sum of digit=:\",sum)"
   ]
  },
  {
   "cell_type": "code",
   "execution_count": 14,
   "id": "4127fd1b",
   "metadata": {},
   "outputs": [
    {
     "name": "stdout",
     "output_type": "stream",
     "text": [
      "Enter number:454\n",
      "The number is a palindrome!\n"
     ]
    }
   ],
   "source": [
    "#13.\tFind out if given number is palindrome or not.\n",
    "n=int(input(\"Enter number:\"))\n",
    "temp=n\n",
    "rev=0\n",
    "while(n>0):\n",
    "    dig=n%10\n",
    "    rev=rev*10+dig\n",
    "    n=n//10\n",
    "if(temp==rev):\n",
    "    print(\"The number is a palindrome!\")\n",
    "else:\n",
    "    print(\"The number isn't a palindrome!\")"
   ]
  },
  {
   "cell_type": "code",
   "execution_count": null,
   "id": "bf6b710a",
   "metadata": {},
   "outputs": [],
   "source": []
  },
  {
   "cell_type": "code",
   "execution_count": null,
   "id": "7514a981",
   "metadata": {},
   "outputs": [],
   "source": []
  }
 ],
 "metadata": {
  "kernelspec": {
   "display_name": "Python 3 (ipykernel)",
   "language": "python",
   "name": "python3"
  },
  "language_info": {
   "codemirror_mode": {
    "name": "ipython",
    "version": 3
   },
   "file_extension": ".py",
   "mimetype": "text/x-python",
   "name": "python",
   "nbconvert_exporter": "python",
   "pygments_lexer": "ipython3",
   "version": "3.9.7"
  }
 },
 "nbformat": 4,
 "nbformat_minor": 5
}
